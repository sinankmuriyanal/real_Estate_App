{
 "cells": [
  {
   "cell_type": "code",
   "execution_count": 171,
   "id": "79411b18-b6d8-404e-b6b0-b82ad5c0b0eb",
   "metadata": {},
   "outputs": [
    {
     "name": "stdout",
     "output_type": "stream",
     "text": [
      "                                                  title  \\\n",
      "0                   Great ROI I High Floor I Creek View   \n",
      "1      Full Sea View | Beach Life | Brand New Residence   \n",
      "2              Green Belt | Corner Unit | Spacious Plot   \n",
      "3              2BR+Study | Near Pool and Park | Private   \n",
      "4                Vacant | Well Maintained | Area Expert   \n",
      "...                                                 ...   \n",
      "5053  07 Layout | Handover Q2 2025 | Multiple Units ...   \n",
      "5054    Emaar | Waterfront Apartment | 10% DP | 5-Yr PP   \n",
      "5055            Upgraded | Spacious With Private Garden   \n",
      "5056  10 Series | Full Sea, Burj Khalifa View Exclusive   \n",
      "5057     Family Home | Unique Design | Attracrive Price   \n",
      "\n",
      "                                         displayAddress bathrooms bedrooms  \\\n",
      "0                  Binghatti Canal, Business Bay, Dubai         3        2   \n",
      "1               La Vie, Jumeirah Beach Residence, Dubai         3        2   \n",
      "2               La Rosa 6, Villanova, Dubai Land, Dubai         3        4   \n",
      "3                        Springs 15, The Springs, Dubai         3        2   \n",
      "4                   Noor Townhouses, Town Square, Dubai         3        3   \n",
      "...                                                 ...       ...      ...   \n",
      "5053  Sobha Creek Vistas Grande, Sobha Hartland, Moh...         3        2   \n",
      "5054                   Al Marjan Island, Ras Al Khaimah         2        1   \n",
      "5055                   Oia Residence, Motor City, Dubai         5        4   \n",
      "5056  The Grand, Dubai Creek Harbour (The Lagoons), ...         2        2   \n",
      "5057                           Avena, The Valley, Dubai         5        4   \n",
      "\n",
      "                   addedOn                  type    price  verified  \\\n",
      "0     2024-08-14T12:02:53Z  Residential for Sale  2500000      True   \n",
      "1     2024-08-13T05:45:16Z  Residential for Sale  7200000      True   \n",
      "2     2024-08-14T06:24:28Z  Residential for Sale  3600000      True   \n",
      "3     2024-08-15T06:07:22Z  Residential for Sale  2999999      True   \n",
      "4     2024-08-09T08:28:59Z  Residential for Sale  2449999      True   \n",
      "...                    ...                   ...      ...       ...   \n",
      "5053  2024-07-10T14:07:57Z  Residential for Sale  2345000      True   \n",
      "5054  2024-08-12T13:08:33Z  Residential for Sale  3007888     False   \n",
      "5055  2024-04-20T08:43:16Z  Residential for Sale  4000000      True   \n",
      "5056  2024-07-08T07:05:56Z  Residential for Sale  3800000      True   \n",
      "5057  2024-07-16T06:57:49Z  Residential for Sale  4360000     False   \n",
      "\n",
      "     priceDuration    sizeMin furnishing  \\\n",
      "0             sell  1323 sqft         NO   \n",
      "1             sell  1410 sqft        YES   \n",
      "2             sell  2324 sqft         NO   \n",
      "3             sell  1647 sqft         NO   \n",
      "4             sell  2105 sqft         NO   \n",
      "...            ...        ...        ...   \n",
      "5053          sell  1268 sqft     PARTLY   \n",
      "5054          sell   854 sqft         NO   \n",
      "5055          sell  3813 sqft         NO   \n",
      "5056          sell  1300 sqft         NO   \n",
      "5057          sell  3685 sqft         NO   \n",
      "\n",
      "                                            description  \n",
      "0     MNA Properties is delighted to offer this apar...  \n",
      "1     Apartment for sale in La Vie, Jumeirah Beach R...  \n",
      "2     Treo Homes is very pleased to be bringing to t...  \n",
      "3     2 Bedrooms + Study | Near Pool &amp; Park | Pr...  \n",
      "4     -Type 1\\n-3 Bed+Maid\\n-Close To Amenities\\n-BU...  \n",
      "...                                                 ...  \n",
      "5053  Nobel Victory Real Estate are proud to present...  \n",
      "5054  Discover Address Residence by Emaar, nestled o...  \n",
      "5055  Rocky Real Estate presents an Exclusive and up...  \n",
      "5056  Dingstone Real Estate is pleased to present to...  \n",
      "5057  Introducing Avena, the valley’s newest and mos...  \n",
      "\n",
      "[5058 rows x 12 columns]\n",
      "title             object\n",
      "displayAddress    object\n",
      "bathrooms         object\n",
      "bedrooms          object\n",
      "addedOn           object\n",
      "type              object\n",
      "price              int64\n",
      "verified            bool\n",
      "priceDuration     object\n",
      "sizeMin           object\n",
      "furnishing        object\n",
      "description       object\n",
      "dtype: object\n",
      "Mixed data types found in column: bathrooms\n",
      "Mixed data types found in column: bedrooms\n",
      "Mixed data types found in column: furnishing\n",
      "Mixed data types found in column: description\n"
     ]
    }
   ],
   "source": [
    "#!pip install xgboost lightgbm\n",
    "import pandas as pd\n",
    "from sklearn.model_selection import train_test_split\n",
    "from sklearn.tree import DecisionTreeRegressor\n",
    "from sklearn.ensemble import RandomForestRegressor\n",
    "from sklearn.metrics import mean_squared_error, r2_score\n",
    "from sklearn.ensemble import GradientBoostingRegressor\n",
    "from sklearn.svm import SVR\n",
    "from sklearn.neighbors import KNeighborsRegressor\n",
    "from sklearn.ensemble import AdaBoostRegressor\n",
    "import xgboost as xgb\n",
    "import lightgbm as lgb\n",
    "from sklearn.neural_network import MLPRegressor\n",
    "from sklearn.metrics import mean_absolute_error\n",
    "import numpy as np\n",
    "\n",
    "# Sample Data\n",
    "data = {\n",
    "    'price': [3900, 1750, 2050, 3800, 5600, 4750, 6250, 5050, 5050, 9100, 8600],\n",
    "    'bedroom': [2, 1, 1, 3, 4, 4, 5, 4, 3, 8, 7],\n",
    "    'bathroom': [2, 1, 2, 1, 2, 1, 2, 1, 3, 1, 2],\n",
    "    'verified': [True, False, True, True, False, False, True, True, True, False, False],\n",
    "    'furnishing_Yes': [True, False, False, False, True, False, False, False, False, True, True],\n",
    "    'furnishing_Partly': [False, True, True, False, False, True, True, True, True, False, False]\n",
    "}\n",
    "\n",
    "# Convert the data into a pandas DataFrame\n",
    "df = pd.read_csv('real_estate_data.csv')\n",
    "print(df)\n",
    "# Check the data types of all columns\n",
    "print(df.dtypes)\n",
    "\n",
    "# Identify problematic columns\n",
    "for col in df.columns:\n",
    "    if df[col].apply(lambda x: isinstance(x, str)).any() and df[col].apply(lambda x: isinstance(x, (int, float))).any():\n",
    "        print(f\"Mixed data types found in column: {col}\")\n",
    "\n"
   ]
  },
  {
   "cell_type": "code",
   "execution_count": 172,
   "id": "5f0fe6b2-6f87-4937-ad6f-4aa673416c4e",
   "metadata": {},
   "outputs": [
    {
     "name": "stdout",
     "output_type": "stream",
     "text": [
      "The rounded mean of bathrooms is: 3\n",
      "title             object\n",
      "displayAddress    object\n",
      "bathrooms          int64\n",
      "bedrooms          object\n",
      "addedOn           object\n",
      "type              object\n",
      "price              int64\n",
      "verified            bool\n",
      "priceDuration     object\n",
      "sizeMin           object\n",
      "furnishing        object\n",
      "description       object\n",
      "dtype: object\n",
      "Mixed data types found in column: bedrooms\n",
      "Mixed data types found in column: furnishing\n",
      "Mixed data types found in column: description\n"
     ]
    }
   ],
   "source": [
    "# Inspect unique values in 'sizeMin' to understand the issue\n",
    "df['bathrooms'] = df['bathrooms'].astype(str)\n",
    "df['bathrooms'] = df['bathrooms'].str.replace(r'[^0-9.]', '', regex=True)\n",
    "df['bathrooms'] = pd.to_numeric(df['bathrooms'], errors='coerce')\n",
    "# Calculate the mean of the 'bathrooms' column\n",
    "mean_bathrooms = df['bathrooms'].mean()\n",
    "\n",
    "# Round the mean to the nearest integer\n",
    "rounded_mean_bathrooms = round(mean_bathrooms)\n",
    "\n",
    "# Print the result\n",
    "print(f\"The rounded mean of bathrooms is: {rounded_mean_bathrooms}\")\n",
    "\n",
    "\n",
    "# Fill any missing 'bathrooms' values with the rounded mean# Fill missing 'bathrooms' values with the rounded mean without using inplace\n",
    "df['bathrooms'] = df['bathrooms'].fillna(rounded_mean_bathrooms)\n",
    "df['bathrooms'] = df['bathrooms'].round()\n",
    "df['bathrooms'] = df['bathrooms'].round().astype(int)\n",
    "df['bathrooms'].unique()\n",
    "\n",
    "# Check the data types of all columns\n",
    "print(df.dtypes)\n",
    "\n",
    "# Identify problematic columns\n",
    "for col in df.columns:\n",
    "    if df[col].apply(lambda x: isinstance(x, str)).any() and df[col].apply(lambda x: isinstance(x, (int, float))).any():\n",
    "        print(f\"Mixed data types found in column: {col}\")\n"
   ]
  },
  {
   "cell_type": "code",
   "execution_count": 173,
   "id": "c7f89353-787e-4e27-9820-52bbb19d22fb",
   "metadata": {},
   "outputs": [
    {
     "name": "stdout",
     "output_type": "stream",
     "text": [
      "title             object\n",
      "displayAddress    object\n",
      "bathrooms          int64\n",
      "bedrooms          object\n",
      "addedOn           object\n",
      "type              object\n",
      "price              int64\n",
      "verified            bool\n",
      "priceDuration     object\n",
      "sizeMin            int64\n",
      "furnishing        object\n",
      "description       object\n",
      "dtype: object\n",
      "Mixed data types found in column: bedrooms\n",
      "Mixed data types found in column: furnishing\n",
      "Mixed data types found in column: description\n"
     ]
    }
   ],
   "source": [
    "df['sizeMin'].unique()\n",
    "df['sizeMin'] = df['sizeMin'].astype(str)\n",
    "df['sizeMin'] = df['sizeMin'].str.replace(r'[^0-9.]', '', regex=True)\n",
    "df['sizeMin'] = pd.to_numeric(df['sizeMin'], errors='coerce')\n",
    "df['sizeMin'] = df['sizeMin'].fillna(df['sizeMin'].mean())\n",
    "\n",
    "# Check the data types of all columns\n",
    "print(df.dtypes)\n",
    "\n",
    "# Identify problematic columns\n",
    "for col in df.columns:\n",
    "    if df[col].apply(lambda x: isinstance(x, str)).any() and df[col].apply(lambda x: isinstance(x, (int, float))).any():\n",
    "        print(f\"Mixed data types found in column: {col}\")"
   ]
  },
  {
   "cell_type": "code",
   "execution_count": 174,
   "id": "9c480a9b-1df0-4a41-850d-bd3d5b0e24b0",
   "metadata": {},
   "outputs": [
    {
     "name": "stdout",
     "output_type": "stream",
     "text": [
      "title             object\n",
      "displayAddress    object\n",
      "bathrooms          int64\n",
      "bedrooms           int64\n",
      "addedOn           object\n",
      "type              object\n",
      "price              int64\n",
      "verified            bool\n",
      "priceDuration     object\n",
      "sizeMin            int64\n",
      "furnishing        object\n",
      "description       object\n",
      "dtype: object\n",
      "Mixed data types found in column: furnishing\n",
      "Mixed data types found in column: description\n"
     ]
    }
   ],
   "source": [
    "# Fill missing values in 'price' and 'sizeMin' columns with their respective means\n",
    "df['price'] = df['price'].fillna(df['price'].mean())\n",
    "\n",
    "df['bedrooms'] = df['bedrooms'].astype(str)\n",
    "df['bedrooms'] = df['bedrooms'].str.replace(r'[^0-9.]', '', regex=True)\n",
    "df['bedrooms'] = pd.to_numeric(df['bedrooms'], errors='coerce')\n",
    "df['bedrooms'] = df['bedrooms'].fillna(df['sizeMin'].mean())\n",
    "df['bedrooms'] = df['bedrooms'].replace(2550, 1)\n",
    "df['bedrooms'] = df['bedrooms'].round()\n",
    "df['bedrooms'] = df['bedrooms'].round().astype(int)\n",
    "df['bedrooms'].unique()\n",
    "\n",
    "# Check the data types of all columns\n",
    "print(df.dtypes)\n",
    "\n",
    "# Identify problematic columns\n",
    "for col in df.columns:\n",
    "    if df[col].apply(lambda x: isinstance(x, str)).any() and df[col].apply(lambda x: isinstance(x, (int, float))).any():\n",
    "        print(f\"Mixed data types found in column: {col}\")"
   ]
  },
  {
   "cell_type": "code",
   "execution_count": 187,
   "id": "d1ac6ac4-2395-4da2-8c77-1e82a56e7b5a",
   "metadata": {},
   "outputs": [
    {
     "name": "stdout",
     "output_type": "stream",
     "text": [
      "title                 object\n",
      "displayAddress        object\n",
      "bathrooms              int64\n",
      "bedrooms               int64\n",
      "addedOn               object\n",
      "type                  object\n",
      "price                  int64\n",
      "verified               int64\n",
      "priceDuration         object\n",
      "sizeMin                int64\n",
      "description           object\n",
      "furnishing_NO          int64\n",
      "furnishing_PARTLY      int64\n",
      "furnishing_YES         int64\n",
      "log_price            float64\n",
      "dtype: object\n",
      "Mixed data types found in column: description\n"
     ]
    }
   ],
   "source": [
    "# One-hot encoding for 'furnishing'\n",
    "#df = pd.get_dummies(df, columns=['furnishing'], drop_first=False)\n",
    "# Check the transformed DataFrame\n",
    "df.head()\n",
    "\n",
    "# Check the data types of all columns\n",
    "print(df.dtypes)\n",
    "\n",
    "# Identify problematic columns\n",
    "for col in df.columns:\n",
    "    if df[col].apply(lambda x: isinstance(x, str)).any() and df[col].apply(lambda x: isinstance(x, (int, float))).any():\n",
    "        print(f\"Mixed data types found in column: {col}\")"
   ]
  },
  {
   "cell_type": "code",
   "execution_count": 194,
   "id": "35d8e40d-641c-493d-9e5c-672f148644ac",
   "metadata": {},
   "outputs": [
    {
     "name": "stdout",
     "output_type": "stream",
     "text": [
      "Skewness of log-transformed price: 0.6406352907954003\n"
     ]
    },
    {
     "data": {
      "image/png": "[encoded data removed]",
      "text/plain": [
       "<Figure size 1200x600 with 2 Axes>"
      ]
     },
     "metadata": {},
     "output_type": "display_data"
    }
   ],
   "source": [
    "import numpy as np\n",
    "import matplotlib.pyplot as plt\n",
    "import seaborn as sns\n",
    "\n",
    "# Apply log transformation\n",
    "df['log_price'] = np.log1p(df['price'])  # Using log1p to handle any potential zero values safely\n",
    "\n",
    "# Check skewness of the log-transformed price\n",
    "log_skewness = df['log_price'].skew()\n",
    "print(f\"Skewness of log-transformed price: {log_skewness}\")\n",
    "\n",
    "# Plot the distribution of 'price' and 'log_price'\n",
    "plt.figure(figsize=(12, 6))\n",
    "\n",
    "# Plot the distribution of 'price' before log transformation\n",
    "plt.subplot(1, 2, 1)\n",
    "sns.histplot(df['price'], kde=True)\n",
    "plt.title('Distribution of Price')\n",
    "\n",
    "# Plot the distribution of 'log_price' after log transformation\n",
    "plt.subplot(1, 2, 2)\n",
    "sns.histplot(df['log_price'], kde=True)\n",
    "plt.title('Distribution of Log-Transformed Price')\n",
    "\n",
    "plt.tight_layout()\n",
    "plt.show()\n"
   ]
  },
  {
   "cell_type": "code",
   "execution_count": 195,
   "id": "7674203a-ff95-4287-9fa9-3cd79f07b285",
   "metadata": {},
   "outputs": [
    {
     "name": "stdout",
     "output_type": "stream",
     "text": [
      "Skewness of price: 6.790976230067193\n",
      "RMSE: 0.5455631114255658\n",
      "Mean Squared Error: 0.2976391085483443\n",
      "R-squared: 0.7346780890808218\n",
      "MAE: 0.41509867024802727\n",
      "Adjusted R-squared: 0.7342182590792288\n"
     ]
    }
   ],
   "source": [
    "# Convert boolean columns to integers (True=1, False=0)\n",
    "df['verified'] = df['verified'].astype(int)\n",
    "df['furnishing_YES'] = df['furnishing_YES'].astype(int)\n",
    "df['furnishing_PARTLY'] = df['furnishing_PARTLY'].astype(int)\n",
    "df['furnishing_NO'] = df['furnishing_NO'].astype(int)\n",
    "\n",
    "df = df[['bedrooms','bathrooms','verified','sizeMin','furnishing_NO','furnishing_PARTLY','furnishing_YES', 'log_price','price']]\n",
    "# Features and target variable\n",
    "X = df[['bedrooms','bathrooms','verified','sizeMin','furnishing_NO','furnishing_PARTLY','furnishing_YES']]\n",
    "y = df['log_price']\n",
    "\n",
    "# Train-test split\n",
    "X_train, X_test, y_train, y_test = train_test_split(X, y, test_size=0.8, random_state=42)\n",
    "\n",
    "# Initialize the Random Forest Regressor\n",
    "model = GradientBoostingRegressor(n_estimators=100, random_state=42)\n",
    "\n",
    "# Fit the model to the training data\n",
    "model.fit(X_train, y_train)\n",
    "\n",
    "# Predict using the test data\n",
    "predictions = model.predict(X_test)\n",
    "\n",
    "# Evaluate the model\n",
    "mse = mean_squared_error(y_test, predictions)\n",
    "r2 = r2_score(y_test, predictions)\n",
    "mae = mean_absolute_error(y_test, predictions)\n",
    "\n",
    "n = len(y_test)  # Number of data points\n",
    "p = X_test.shape[1]  # Number of features\n",
    "adj_r2 = 1 - (1 - r2) * (n - 1) / (n - p - 1)\n",
    "\n",
    "rmse = np.sqrt(mse)\n",
    "\n",
    "skewness = df['price'].skew()\n",
    "print(f\"Skewness of price: {skewness}\")\n",
    "\n",
    "print(f\"RMSE: {rmse}\")\n",
    "print(f\"Mean Squared Error: {mse}\")\n",
    "print(f\"R-squared: {r2}\")\n",
    "print(f\"MAE: {mae}\")\n",
    "print(f\"Adjusted R-squared: {adj_r2}\")"
   ]
  },
  {
   "cell_type": "code",
   "execution_count": 193,
   "id": "7fe09117-4f46-42e3-9f0f-00cfd7f4ddbb",
   "metadata": {},
   "outputs": [
    {
     "name": "stdout",
     "output_type": "stream",
     "text": [
      "Log_Predicted Price: [14.91098998]\n",
      "Test Input: {'bedrooms': [3], 'bathrooms': [2], 'verified': [1], 'sizeMin': [1500], 'furnishing_NO': [0], 'furnishing_PARTLY': [1], 'furnishing_YES': [0]}\n",
      "Actual Predicted Price: 2990616.1\n"
     ]
    }
   ],
   "source": [
    "import pandas as pd\n",
    "\n",
    "# Define a sample input to test the model\n",
    "test_input = {\n",
    "    \"bedrooms\": [3],\n",
    "    \"bathrooms\": [2],\n",
    "    \"verified\": [1],  # True in integer form\n",
    "    \"sizeMin\": [1500], # True in integer form\n",
    "    \"furnishing_NO\": [0], # True in integer form\n",
    "    \"furnishing_PARTLY\": [1],  # True in integer form\n",
    "    \"furnishing_YES\": [0]  # False in integer form\n",
    "    \n",
    "}\n",
    "\n",
    "# Convert the test input to a pandas DataFrame with proper column names\n",
    "test_df = pd.DataFrame(test_input)\n",
    "\n",
    "# Make a prediction\n",
    "log_predicted_price = model.predict(test_df)\n",
    "\n",
    "predicted_price = np.exp(log_predicted_price)\n",
    "\n",
    "print(f\"Log_Predicted Price: {log_predicted_price}\")\n",
    "# Print the prediction\n",
    "print(f\"Test Input: {test_input}\")\n",
    "print(f\"Actual Predicted Price: {round(predicted_price[0], 2)}\")\n"
   ]
  },
  {
   "cell_type": "code",
   "execution_count": 196,
   "id": "faab830f-38b8-45fb-bb85-3b7a8c53e15e",
   "metadata": {},
   "outputs": [
    {
     "data": {
      "text/plain": [
       "['model.pkl']"
      ]
     },
     "execution_count": 196,
     "metadata": {},
     "output_type": "execute_result"
    }
   ],
   "source": [
    "import joblib\n",
    "\n",
    "# Save the trained model\n",
    "joblib.dump(model, 'model.pkl')\n"
   ]
  },
  {
   "cell_type": "code",
   "execution_count": 1,
   "id": "31b0daf7-c369-4e42-bccb-dacbb6456c8f",
   "metadata": {},
   "outputs": [
    {
     "ename": "FileNotFoundError",
     "evalue": "[Errno 2] No such file or directory: 'model.pkl'",
     "output_type": "error",
     "traceback": [
      "\u001b[1;31m---------------------------------------------------------------------------\u001b[0m",
      "\u001b[1;31mFileNotFoundError\u001b[0m                         Traceback (most recent call last)",
      "Cell \u001b[1;32mIn[1], line 8\u001b[0m\n\u001b[0;32m      5\u001b[0m \u001b[38;5;28;01mimport\u001b[39;00m \u001b[38;5;21;01mnumpy\u001b[39;00m \u001b[38;5;28;01mas\u001b[39;00m \u001b[38;5;21;01mnp\u001b[39;00m\n\u001b[0;32m      7\u001b[0m \u001b[38;5;66;03m# Load the pre-trained model\u001b[39;00m\n\u001b[1;32m----> 8\u001b[0m model \u001b[38;5;241m=\u001b[39m \u001b[43mjoblib\u001b[49m\u001b[38;5;241;43m.\u001b[39;49m\u001b[43mload\u001b[49m\u001b[43m(\u001b[49m\u001b[38;5;124;43m'\u001b[39;49m\u001b[38;5;124;43mmodel.pkl\u001b[39;49m\u001b[38;5;124;43m'\u001b[39;49m\u001b[43m)\u001b[49m\n\u001b[0;32m     10\u001b[0m \u001b[38;5;66;03m# Initialize FastAPI app\u001b[39;00m\n\u001b[0;32m     11\u001b[0m app \u001b[38;5;241m=\u001b[39m FastAPI()\n",
      "File \u001b[1;32m~\\AppData\\Local\\Programs\\Python\\Python312\\Lib\\site-packages\\joblib\\numpy_pickle.py:650\u001b[0m, in \u001b[0;36mload\u001b[1;34m(filename, mmap_mode)\u001b[0m\n\u001b[0;32m    648\u001b[0m         obj \u001b[38;5;241m=\u001b[39m _unpickle(fobj)\n\u001b[0;32m    649\u001b[0m \u001b[38;5;28;01melse\u001b[39;00m:\n\u001b[1;32m--> 650\u001b[0m     \u001b[38;5;28;01mwith\u001b[39;00m \u001b[38;5;28;43mopen\u001b[39;49m\u001b[43m(\u001b[49m\u001b[43mfilename\u001b[49m\u001b[43m,\u001b[49m\u001b[43m \u001b[49m\u001b[38;5;124;43m'\u001b[39;49m\u001b[38;5;124;43mrb\u001b[39;49m\u001b[38;5;124;43m'\u001b[39;49m\u001b[43m)\u001b[49m \u001b[38;5;28;01mas\u001b[39;00m f:\n\u001b[0;32m    651\u001b[0m         \u001b[38;5;28;01mwith\u001b[39;00m _read_fileobject(f, filename, mmap_mode) \u001b[38;5;28;01mas\u001b[39;00m fobj:\n\u001b[0;32m    652\u001b[0m             \u001b[38;5;28;01mif\u001b[39;00m \u001b[38;5;28misinstance\u001b[39m(fobj, \u001b[38;5;28mstr\u001b[39m):\n\u001b[0;32m    653\u001b[0m                 \u001b[38;5;66;03m# if the returned file object is a string, this means we\u001b[39;00m\n\u001b[0;32m    654\u001b[0m                 \u001b[38;5;66;03m# try to load a pickle file generated with an version of\u001b[39;00m\n\u001b[0;32m    655\u001b[0m                 \u001b[38;5;66;03m# Joblib so we load it with joblib compatibility function.\u001b[39;00m\n",
      "\u001b[1;31mFileNotFoundError\u001b[0m: [Errno 2] No such file or directory: 'model.pkl'"
     ]
    }
   ],
   "source": [
    "#!pip install FASTAPI\n",
    "from fastapi import FastAPI\n",
    "from pydantic import BaseModel\n",
    "import joblib\n",
    "import numpy as np\n",
    "\n",
    "# Load the pre-trained model\n",
    "model = joblib.load('model.pkl')\n",
    "\n",
    "# Initialize FastAPI app\n",
    "app = FastAPI()\n",
    "\n",
    "# Define the input structure using Pydantic\n",
    "class InputData(BaseModel):\n",
    "    bedrooms: int\n",
    "    bathrooms: int\n",
    "    verified: int\n",
    "    sizeMin: int\n",
    "    furnishing_NO: int\n",
    "    furnishing_PARTLY: int\n",
    "    furnishing_YES: int\n",
    "\n",
    "# Define the prediction endpoint\n",
    "@app.post(\"/predict/\")\n",
    "async def predict(input_data: InputData):\n",
    "    # Prepare the input data in the same format as the model's input\n",
    "    input_dict = input_data.dict()\n",
    "    \n",
    "    # Convert input data into a numpy array\n",
    "    input_array = np.array([[input_dict['bedrooms'], input_dict['bathrooms'], \n",
    "                             input_dict['verified'], input_dict['sizeMin'], \n",
    "                             input_dict['furnishing_NO'], input_dict['furnishing_PARTLY'], \n",
    "                             input_dict['furnishing_YES']]])\n",
    "    \n",
    "    # Get the predicted log price\n",
    "    log_predicted_price = model.predict(input_array)\n",
    "    \n",
    "    # Reverse the log transformation (take exponential)\n",
    "    predicted_price = np.exp(log_predicted_price[0])\n",
    "    \n",
    "    return {\"predicted_price\": predicted_price}\n",
    "\n"
   ]
  },
  {
   "cell_type": "code",
   "execution_count": 3,
   "id": "d0a10e80-bcb6-47e7-b8f0-ae879752bca2",
   "metadata": {},
   "outputs": [
    {
     "data": {
      "text/plain": [
       "'1.6.0'"
      ]
     },
     "execution_count": 3,
     "metadata": {},
     "output_type": "execute_result"
    }
   ],
   "source": [
    "import sklearn\n",
    "sklearn.__version__"
   ]
  },
  {
   "cell_type": "code",
   "execution_count": null,
   "id": "e48f39ac-f7f2-4c9d-b5a7-663b31b79b4f",
   "metadata": {},
   "outputs": [],
   "source": []
  }
 ],
 "metadata": {
  "kernelspec": {
   "display_name": "Python 3 (ipykernel)",
   "language": "python",
   "name": "python3"
  },
  "language_info": {
   "codemirror_mode": {
    "name": "ipython",
    "version": 3
   },
   "file_extension": ".py",
   "mimetype": "text/x-python",
   "name": "python",
   "nbconvert_exporter": "python",
   "pygments_lexer": "ipython3",
   "version": "3.12.1"
  }
 },
 "nbformat": 4,
 "nbformat_minor": 5
}
